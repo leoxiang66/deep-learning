{
 "cells": [
  {
   "cell_type": "markdown",
   "id": "atomic-vaccine",
   "metadata": {},
   "source": [
    "# Bar Chart 柱形图\n",
    "\n",
    "```python\n",
    "plt.bar(left, height, width, facecolor, edgecolor, label)\n",
    "```\n"
   ]
  },
  {
   "cell_type": "code",
   "execution_count": 4,
   "id": "caring-praise",
   "metadata": {},
   "outputs": [
    {
     "data": {
      "image/png": "[encoded data removed]",
      "text/plain": [
       "<Figure size 432x288 with 1 Axes>"
      ]
     },
     "metadata": {
      "needs_background": "light"
     },
     "output_type": "display_data"
    }
   ],
   "source": [
    "import numpy as np \n",
    "import matplotlib.pyplot as plt\n",
    "\n",
    "y1 =[32,25,16,30,24,45,40,33,28,17,24,20]\n",
    "y2=[-23,-35,-26,-35,-45,-43,-35,-32,-23,-17,-22,-28]\n",
    "\n",
    "plt.bar(range(len(y1)),y1,width=0.8,facecolor = 'green',edgecolor = 'white', label = '1')\n",
    "plt.bar(range(len(y2)),y2,width=0.8,facecolor = 'yellow',edgecolor = 'white', label = '2')\n",
    "\n",
    "\n",
    "plt.title(\"Bar Chart\", fontsize=20)\n",
    "\n",
    "plt.legend() \n",
    "\n",
    "plt. show()"
   ]
  },
  {
   "cell_type": "code",
   "execution_count": null,
   "id": "smooth-special",
   "metadata": {},
   "outputs": [],
   "source": []
  }
 ],
 "metadata": {
  "kernelspec": {
   "display_name": "Python 3",
   "language": "python",
   "name": "python3"
  },
  "language_info": {
   "codemirror_mode": {
    "name": "ipython",
    "version": 3
   },
   "file_extension": ".py",
   "mimetype": "text/x-python",
   "name": "python",
   "nbconvert_exporter": "python",
   "pygments_lexer": "ipython3",
   "version": "3.7.3"
  }
 },
 "nbformat": 4,
 "nbformat_minor": 5
}
