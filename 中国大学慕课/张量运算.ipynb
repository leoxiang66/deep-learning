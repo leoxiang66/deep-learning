{
 "cells": [
  {
   "cell_type": "markdown",
   "id": "structural-category",
   "metadata": {},
   "source": [
    "# 张量运算\n",
    "\n",
    "### 基本数学运算\n",
    "\n",
    "<img src=\"https://i.loli.net/2021/03/18/xnSrAGXKsYBcfaD.png\" alt=\"image-20210317211205758\" style=\"zoom:50%;\" />\n",
    "\n",
    "<img src=\"https://i.loli.net/2021/03/18/MkCpg7uVex65ErG.png\" alt=\"image-20210317211255919\" style=\"zoom:50%;\" />\n",
    "\n",
    "<img src=\"https://i.loli.net/2021/03/18/QmVNYDzAO1ux4bU.png\" alt=\"image-20210317211609734\" style=\"zoom:50%;\" />\n",
    "\n",
    "<img src=\"https://i.loli.net/2021/03/18/oEpLHmIwBbZ3u2e.png\" alt=\"image-20210317211650942\" style=\"zoom:50%;\" />\n",
    "\n",
    "<img src=\"https://i.loli.net/2021/03/18/8hMXHuDcmzeCbaf.png\" alt=\"image-20210317211746282\" style=\"zoom:50%;\" />"
   ]
  }
 ],
 "metadata": {
  "kernelspec": {
   "display_name": "Python 3",
   "language": "python",
   "name": "python3"
  },
  "language_info": {
   "codemirror_mode": {
    "name": "ipython",
    "version": 3
   },
   "file_extension": ".py",
   "mimetype": "text/x-python",
   "name": "python",
   "nbconvert_exporter": "python",
   "pygments_lexer": "ipython3",
   "version": "3.7.3"
  }
 },
 "nbformat": 4,
 "nbformat_minor": 5
}
