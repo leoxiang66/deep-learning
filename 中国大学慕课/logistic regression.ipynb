{
 "cells": [
  {
   "cell_type": "markdown",
   "id": "white-trustee",
   "metadata": {},
   "source": [
    "# tensorflow 实现逻辑回归\n",
    "\n",
    "![image-20210319103203888](https://i.loli.net/2021/03/19/UdJL5qDk68uBobO.png)"
   ]
  },
  {
   "cell_type": "code",
   "execution_count": 1,
   "id": "logical-rwanda",
   "metadata": {},
   "outputs": [],
   "source": [
    "import tensorflow as tf\n",
    "import numpy as np"
   ]
  },
  {
   "cell_type": "markdown",
   "id": "incorporated-decision",
   "metadata": {},
   "source": [
    "### sigmoid function"
   ]
  },
  {
   "cell_type": "code",
   "execution_count": 2,
   "id": "furnished-receiver",
   "metadata": {},
   "outputs": [
    {
     "data": {
      "text/plain": [
       "<tf.Tensor: shape=(4,), dtype=float32, numpy=array([0.880797  , 0.95257413, 0.98201376, 0.9933072 ], dtype=float32)>"
      ]
     },
     "execution_count": 2,
     "metadata": {},
     "output_type": "execute_result"
    }
   ],
   "source": [
    "x = np.array([1,2,3,4])\n",
    "w = tf.Variable(1.)\n",
    "b = tf.Variable(1.)\n",
    "\n",
    "1/(1+tf.exp(-(w*x+b)))"
   ]
  },
  {
   "cell_type": "markdown",
   "id": "loose-today",
   "metadata": {},
   "source": [
    "### cross entropy function\n",
    "\n",
    "<img src=\"https://i.loli.net/2021/03/19/Ia3ocPMR41qtLpE.png\" alt=\"image-20210319103839859\" style=\"zoom:50%;\" />"
   ]
  },
  {
   "cell_type": "code",
   "execution_count": 3,
   "id": "willing-prediction",
   "metadata": {},
   "outputs": [],
   "source": [
    "y = np.array([0,0,1,1])\n",
    "pred = np.array([0.1,0.2,0.8,0.49])"
   ]
  },
  {
   "cell_type": "code",
   "execution_count": 4,
   "id": "shaped-orleans",
   "metadata": {},
   "outputs": [
    {
     "data": {
      "text/plain": [
       "<tf.Tensor: shape=(), dtype=float64, numpy=1.2649975061637104>"
      ]
     },
     "execution_count": 4,
     "metadata": {},
     "output_type": "execute_result"
    }
   ],
   "source": [
    "# cross entropy\n",
    "-tf.reduce_sum(y*tf.math.log(pred)+(1-y)*tf.math.log(1-pred))"
   ]
  },
  {
   "cell_type": "code",
   "execution_count": 5,
   "id": "continental-owner",
   "metadata": {},
   "outputs": [
    {
     "data": {
      "text/plain": [
       "<tf.Tensor: shape=(), dtype=float64, numpy=0.3162493765409276>"
      ]
     },
     "execution_count": 5,
     "metadata": {},
     "output_type": "execute_result"
    }
   ],
   "source": [
    "# average cross entropy\n",
    "-tf.reduce_mean(y*tf.math.log(pred)+(1-y)*tf.math.log(1-pred))"
   ]
  },
  {
   "cell_type": "markdown",
   "id": "willing-prize",
   "metadata": {},
   "source": [
    "### 准确率\n",
    "\n",
    "- 假定threshold = 0.4\n",
    "    - pred >  0.4 => class 1\n",
    "    - pred <= 0.4 => class 0\n",
    "    \n",
    "<hr>\n",
    "\n",
    "```python\n",
    "tf.where(condition,a,b)\n",
    "```\n",
    "\n",
    "- if `condition`, then return `a`, else `b`\n",
    "\n",
    "<hr>"
   ]
  },
  {
   "cell_type": "code",
   "execution_count": 7,
   "id": "recognized-andrew",
   "metadata": {},
   "outputs": [
    {
     "data": {
      "text/plain": [
       "<tf.Tensor: shape=(4,), dtype=int32, numpy=array([0, 0, 1, 1], dtype=int32)>"
      ]
     },
     "execution_count": 7,
     "metadata": {},
     "output_type": "execute_result"
    }
   ],
   "source": [
    "a = tf.where(pred <= 0.4,0,1)\n",
    "a"
   ]
  },
  {
   "cell_type": "code",
   "execution_count": 9,
   "id": "environmental-hydrogen",
   "metadata": {},
   "outputs": [
    {
     "data": {
      "text/plain": [
       "<tf.Tensor: shape=(4,), dtype=bool, numpy=array([ True,  True,  True,  True])>"
      ]
     },
     "execution_count": 9,
     "metadata": {},
     "output_type": "execute_result"
    }
   ],
   "source": [
    "b = tf.equal(y,a)\n",
    "b"
   ]
  },
  {
   "cell_type": "code",
   "execution_count": 10,
   "id": "exterior-tunnel",
   "metadata": {},
   "outputs": [
    {
     "data": {
      "text/plain": [
       "<tf.Tensor: shape=(4,), dtype=float32, numpy=array([1., 1., 1., 1.], dtype=float32)>"
      ]
     },
     "execution_count": 10,
     "metadata": {},
     "output_type": "execute_result"
    }
   ],
   "source": [
    "c = tf. cast(b,tf.float32)\n",
    "c"
   ]
  },
  {
   "cell_type": "code",
   "execution_count": 14,
   "id": "enabling-equilibrium",
   "metadata": {},
   "outputs": [
    {
     "data": {
      "text/plain": [
       "1.0"
      ]
     },
     "execution_count": 14,
     "metadata": {},
     "output_type": "execute_result"
    }
   ],
   "source": [
    "accuracy = tf.reduce_mean(c)\n",
    "accuracy.numpy()"
   ]
  },
  {
   "cell_type": "markdown",
   "id": "detailed-fluid",
   "metadata": {},
   "source": [
    "# 实例：房屋类别分类\n",
    "<img src=\"https://i.loli.net/2021/03/19/mI9YxznC2PESVit.png\" alt=\"image-20210319105157536\" style=\"zoom:50%;\" />"
   ]
  },
  {
   "cell_type": "markdown",
   "id": "egyptian-package",
   "metadata": {},
   "source": [
    "1） 加载数据"
   ]
  },
  {
   "cell_type": "code",
   "execution_count": 15,
   "id": "interesting-pierce",
   "metadata": {},
   "outputs": [],
   "source": [
    "import tensorflow as tf\n",
    "import numpy as np\n",
    "import matplotlib.pyplot as plt"
   ]
  },
  {
   "cell_type": "code",
   "execution_count": 19,
   "id": "suspended-thesaurus",
   "metadata": {},
   "outputs": [],
   "source": [
    "x= np. array([137.97,  104.50,  100.00,  124.32,  79.20,  99.00,  124.00, \n",
    "               114.00,106.69,138.05,53.75,46.91,68.00,63.02,81.26,86.21])\n",
    "y = np.array([1,  1,  0,  1,  0,  1,  1,  0,  0,  1,  0,  0,  0,  0,  0,  0])"
   ]
  },
  {
   "cell_type": "code",
   "execution_count": 20,
   "id": "scenic-metro",
   "metadata": {},
   "outputs": [
    {
     "data": {
      "text/plain": [
       "<matplotlib.collections.PathCollection at 0x139f86f40>"
      ]
     },
     "execution_count": 20,
     "metadata": {},
     "output_type": "execute_result"
    },
    {
     "data": {
      "image/png": "[encoded data removed]",
      "text/plain": [
       "<Figure size 432x288 with 1 Axes>"
      ]
     },
     "metadata": {
      "needs_background": "light"
     },
     "output_type": "display_data"
    }
   ],
   "source": [
    "plt.scatter(x,y)"
   ]
  },
  {
   "cell_type": "markdown",
   "id": "hairy-wagner",
   "metadata": {},
   "source": [
    "2) data preprocessing"
   ]
  },
  {
   "cell_type": "code",
   "execution_count": 21,
   "id": "opened-forestry",
   "metadata": {},
   "outputs": [],
   "source": [
    "x_train = x - np.mean(x) #centralization\n",
    "y_train = y"
   ]
  },
  {
   "cell_type": "code",
   "execution_count": 22,
   "id": "visible-incident",
   "metadata": {},
   "outputs": [
    {
     "data": {
      "text/plain": [
       "<matplotlib.collections.PathCollection at 0x13a0fbe80>"
      ]
     },
     "execution_count": 22,
     "metadata": {},
     "output_type": "execute_result"
    },
    {
     "data": {
      "image/png": "[encoded data removed]",
      "text/plain": [
       "<Figure size 432x288 with 1 Axes>"
      ]
     },
     "metadata": {
      "needs_background": "light"
     },
     "output_type": "display_data"
    }
   ],
   "source": [
    "plt.scatter(x_train,y_train)"
   ]
  },
  {
   "cell_type": "markdown",
   "id": "cheap-bottom",
   "metadata": {},
   "source": [
    "3) 设置hyperparameters"
   ]
  },
  {
   "cell_type": "code",
   "execution_count": 23,
   "id": "formal-salmon",
   "metadata": {},
   "outputs": [],
   "source": [
    "learn_rate = 0.005\n",
    "iter = 5\n",
    "\n",
    "display_step = 1"
   ]
  },
  {
   "cell_type": "markdown",
   "id": "persistent-threshold",
   "metadata": {},
   "source": [
    "4) model initialization"
   ]
  },
  {
   "cell_type": "code",
   "execution_count": 25,
   "id": "supposed-statistics",
   "metadata": {},
   "outputs": [],
   "source": [
    "np.random.seed(612)\n",
    "w=tf. Variable (np. random. randn())\n",
    "b=tf. Variable (np. random. randn())"
   ]
  },
  {
   "cell_type": "markdown",
   "id": "irish-courtesy",
   "metadata": {},
   "source": [
    "5) train model"
   ]
  },
  {
   "cell_type": "code",
   "execution_count": 26,
   "id": "bigger-swiss",
   "metadata": {},
   "outputs": [
    {
     "name": "stdout",
     "output_type": "stream",
     "text": [
      "i: 0, Train Loss: 0.850438117980957, Accuracy: 0.625\n",
      "i: 1, Train Loss: 0.4075981378555298, Accuracy: 0.875\n",
      "i: 2, Train Loss: 0.34572893381118774, Accuracy: 0.8125\n",
      "i: 3, Train Loss: 0.3257567882537842, Accuracy: 0.8125\n",
      "i: 4, Train Loss: 0.3167256712913513, Accuracy: 0.8125\n",
      "i: 5, Train Loss: 0.31195974349975586, Accuracy: 0.8125\n"
     ]
    }
   ],
   "source": [
    "cross_train = []\n",
    "acc_train = []\n",
    "\n",
    "for i in range(iter+1):\n",
    "    with tf.GradientTape() as tape:\n",
    "        pred_train = 1/(1+tf.exp(-(w*x_train+b)))\n",
    "        Loss_train = -tf.reduce_mean(y_train*tf.math.log(pred_train)+(1-y_train)*tf.math.log(1-pred_train))\n",
    "        Accuracy_train = tf.reduce_mean(tf.cast(tf.equal(tf.where(pred_train<0.5,0,1),y_train),tf.float32))\n",
    "        \n",
    "    cross_train.append(Loss_train)\n",
    "    acc_train.append(Accuracy_train)\n",
    "    \n",
    "    dl_dw,dl_db = tape.gradient(Loss_train,[w,b])\n",
    "    \n",
    "    w.assign_sub(learn_rate*dl_dw)\n",
    "    b.assign_sub(learn_rate*dl_db)\n",
    "    \n",
    "    if i % display_step == 0:\n",
    "        print(f'i: {i}, Train Loss: {Loss_train}, Accuracy: {Accuracy_train}')"
   ]
  }
 ],
 "metadata": {
  "kernelspec": {
   "display_name": "Python 3",
   "language": "python",
   "name": "python3"
  },
  "language_info": {
   "codemirror_mode": {
    "name": "ipython",
    "version": 3
   },
   "file_extension": ".py",
   "mimetype": "text/x-python",
   "name": "python",
   "nbconvert_exporter": "python",
   "pygments_lexer": "ipython3",
   "version": "3.8.5"
  }
 },
 "nbformat": 4,
 "nbformat_minor": 5
}
