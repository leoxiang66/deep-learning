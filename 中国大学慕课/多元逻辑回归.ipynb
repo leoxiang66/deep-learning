{
 "cells": [
  {
   "cell_type": "markdown",
   "id": "julian-honey",
   "metadata": {},
   "source": [
    "# 多元逻辑回归\n",
    "\n",
    "<img src=\"https://i.loli.net/2021/03/19/JnwYZFNhkmdyx9o.png\" alt=\"image-20210319131902103\" style=\"zoom:50%;\" />"
   ]
  },
  {
   "cell_type": "markdown",
   "id": "standing-reply",
   "metadata": {},
   "source": [
    "### 1. 加载数据"
   ]
  },
  {
   "cell_type": "code",
   "execution_count": 1,
   "id": "unable-harassment",
   "metadata": {},
   "outputs": [],
   "source": [
    "import tensorflow as tf\n",
    "import pandas as pd\n",
    "import numpy as np\n",
    "import matplotlib as mpl\n",
    "import matplotlib.pyplot as plt"
   ]
  },
  {
   "cell_type": "code",
   "execution_count": 2,
   "id": "pressing-manner",
   "metadata": {},
   "outputs": [
    {
     "name": "stdout",
     "output_type": "stream",
     "text": [
      "Downloading data from http://download.tensorflow.org/data/iris_training.csv\n",
      "8192/2194 [================================================================================================================] - 0s 0us/step\n"
     ]
    }
   ],
   "source": [
    "TRAIN_URL = 'http://download.tensorflow.org/data/iris_training.csv'\n",
    "train_path = tf.keras.utils.get_file(TRAIN_URL.split('/')[-1],TRAIN_URL)"
   ]
  },
  {
   "cell_type": "code",
   "execution_count": 3,
   "id": "acceptable-submission",
   "metadata": {},
   "outputs": [],
   "source": [
    "df_iris = pd.read_csv(train_path,header=0)"
   ]
  },
  {
   "cell_type": "markdown",
   "id": "ideal-messenger",
   "metadata": {},
   "source": [
    "### 2. Data preprocessing\n",
    "\n",
    "1. 转化为NumPy数组 \n",
    "2. 提取属性和标签 \n",
    "3. 提取山产尾和变色弘尾\n",
    "4. 可视化样本\n",
    "5. 属性中心化\n",
    "6. 生成多元模型的属性矩阵和标签列向量"
   ]
  },
  {
   "cell_type": "code",
   "execution_count": 5,
   "id": "fourth-mixer",
   "metadata": {},
   "outputs": [
    {
     "data": {
      "text/plain": [
       "(120, 5)"
      ]
     },
     "execution_count": 5,
     "metadata": {},
     "output_type": "execute_result"
    }
   ],
   "source": [
    "# 转化为NumPy数组\n",
    "iris = np.array(df_iris)\n",
    "iris.shape"
   ]
  },
  {
   "cell_type": "code",
   "execution_count": 6,
   "id": "handmade-gothic",
   "metadata": {},
   "outputs": [
    {
     "data": {
      "text/plain": [
       "((120, 2), (120,))"
      ]
     },
     "execution_count": 6,
     "metadata": {},
     "output_type": "execute_result"
    }
   ],
   "source": [
    "# 提取属性和标签\n",
    "train_x = iris[:,0:2]\n",
    "train_y = iris[:,4]\n",
    "\n",
    "train_x.shape, train_y.shape"
   ]
  },
  {
   "cell_type": "code",
   "execution_count": 8,
   "id": "differential-lyric",
   "metadata": {},
   "outputs": [
    {
     "data": {
      "text/plain": [
       "((78, 2), (78,))"
      ]
     },
     "execution_count": 8,
     "metadata": {},
     "output_type": "execute_result"
    }
   ],
   "source": [
    "# 提取山产尾和变色弘尾\n",
    "x_train = train_x[train_y<2]\n",
    "y_train = train_y[train_y<2]\n",
    "\n",
    "x_train.shape, y_train.shape"
   ]
  },
  {
   "cell_type": "code",
   "execution_count": 10,
   "id": "departmental-excitement",
   "metadata": {},
   "outputs": [
    {
     "data": {
      "text/plain": [
       "78"
      ]
     },
     "execution_count": 10,
     "metadata": {},
     "output_type": "execute_result"
    }
   ],
   "source": [
    "num = len(x_train)\n",
    "num"
   ]
  },
  {
   "cell_type": "code",
   "execution_count": 13,
   "id": "otherwise-vision",
   "metadata": {},
   "outputs": [
    {
     "data": {
      "image/png": "[encoded data removed]",
      "text/plain": [
       "<Figure size 432x288 with 1 Axes>"
      ]
     },
     "metadata": {
      "needs_background": "light"
     },
     "output_type": "display_data"
    }
   ],
   "source": [
    "# 数据可视化\n",
    "cm_pt = mpl.colors.ListedColormap(['blue','red'])\n",
    "plt.scatter(x_train[:,0],x_train[:,1],c=y_train,cmap=cm_pt) # 横坐标: 花萼长度， 纵坐标：花萼宽度； y=0:blue, y=1: red\n",
    "plt.show()"
   ]
  },
  {
   "cell_type": "code",
   "execution_count": 14,
   "id": "graduate-engine",
   "metadata": {},
   "outputs": [
    {
     "data": {
      "image/png": "[encoded data removed]",
      "text/plain": [
       "<Figure size 432x288 with 1 Axes>"
      ]
     },
     "metadata": {
      "needs_background": "light"
     },
     "output_type": "display_data"
    }
   ],
   "source": [
    "# 属性中心化\n",
    "x_train = x_train - np.mean(x_train,axis = 0)\n",
    "plt.scatter(x_train[:,0],x_train[:,1],c=y_train,cmap=cm_pt) # 横坐标: 花萼长度， 纵坐标：花萼宽度； y=0:blue, y=1: red\n",
    "plt.show()"
   ]
  },
  {
   "cell_type": "code",
   "execution_count": 15,
   "id": "offshore-owner",
   "metadata": {},
   "outputs": [
    {
     "data": {
      "text/plain": [
       "(TensorShape([78, 3]), TensorShape([78, 1]))"
      ]
     },
     "execution_count": 15,
     "metadata": {},
     "output_type": "execute_result"
    }
   ],
   "source": [
    "# 生成多元模型的属性矩阵和标签列向量\n",
    "x0_train = np.ones(num).reshape(-1,1)\n",
    "\n",
    "X = tf.cast(tf.concat((x0_train,x_train),axis=1) ,tf.float32)\n",
    "Y = tf.cast(y_train.reshape(-1,1),tf.float32)\n",
    "\n",
    "X.shape, Y.shape"
   ]
  },
  {
   "cell_type": "markdown",
   "id": "transsexual-interview",
   "metadata": {},
   "source": [
    "### 3. 设置超参数"
   ]
  },
  {
   "cell_type": "code",
   "execution_count": 17,
   "id": "gentle-grocery",
   "metadata": {},
   "outputs": [],
   "source": [
    "learn_rate = 0.2\n",
    "iter = 120\n",
    "\n",
    "display_step = 30"
   ]
  },
  {
   "cell_type": "markdown",
   "id": "eleven-router",
   "metadata": {},
   "source": [
    "### 4. Model initialization"
   ]
  },
  {
   "cell_type": "code",
   "execution_count": 18,
   "id": "artistic-commonwealth",
   "metadata": {},
   "outputs": [],
   "source": [
    "np.random.seed(612)\n",
    "W = tf.Variable(np.random.randn(3,1),dtype=tf.float32)"
   ]
  },
  {
   "cell_type": "markdown",
   "id": "facial-wildlife",
   "metadata": {},
   "source": [
    "### 5. train model"
   ]
  },
  {
   "cell_type": "code",
   "execution_count": 19,
   "id": "practical-vancouver",
   "metadata": {},
   "outputs": [
    {
     "name": "stdout",
     "output_type": "stream",
     "text": [
      "i: 0, Loss: 0.9942691326141357, Accuracy: 0.23076923191547394\n",
      "i: 30, Loss: 0.4818924069404602, Accuracy: 0.9615384340286255\n",
      "i: 60, Loss: 0.31912824511528015, Accuracy: 0.9871794581413269\n",
      "i: 90, Loss: 0.24662578105926514, Accuracy: 0.9871794581413269\n",
      "i: 120, Loss: 0.20498204231262207, Accuracy: 1.0\n"
     ]
    }
   ],
   "source": [
    "ce = [] # cross entropy\n",
    "acc = []\n",
    "\n",
    "for i in range(iter+1):\n",
    "    with tf.GradientTape() as tape:\n",
    "        PRED = 1/(1+tf.exp(-tf.matmul(X,W)))\n",
    "        Loss = -tf.reduce_mean(Y*tf.math.log(PRED)+(1-Y)*tf.math.log(1-PRED))\n",
    "        \n",
    "    accuracy = tf.reduce_mean(tf.cast(tf.equal(Y,tf.where(PRED.numpy()<0.5,0.,1.)),tf.float32))\n",
    "    ce.append(Loss)\n",
    "    acc.append(accuracy)\n",
    "    \n",
    "    dl_dw = tape.gradient(Loss,W)\n",
    "    W.assign_sub(learn_rate * dl_dw)\n",
    "    \n",
    "    if i%display_step ==0:\n",
    "        print(f'i: {i}, Loss: {Loss}, Accuracy: {accuracy}')\n"
   ]
  }
 ],
 "metadata": {
  "kernelspec": {
   "display_name": "Python 3",
   "language": "python",
   "name": "python3"
  },
  "language_info": {
   "codemirror_mode": {
    "name": "ipython",
    "version": 3
   },
   "file_extension": ".py",
   "mimetype": "text/x-python",
   "name": "python",
   "nbconvert_exporter": "python",
   "pygments_lexer": "ipython3",
   "version": "3.8.5"
  }
 },
 "nbformat": 4,
 "nbformat_minor": 5
}
