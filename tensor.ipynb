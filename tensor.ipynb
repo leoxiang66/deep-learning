{
 "cells": [
  {
   "cell_type": "code",
   "execution_count": 2,
   "id": "current-genesis",
   "metadata": {},
   "outputs": [
    {
     "name": "stdout",
     "output_type": "stream",
     "text": [
      "TensorFlow version: 2.4.1\n"
     ]
    }
   ],
   "source": [
    "import tensorflow as tf \n",
    "import numpy as np\n",
    "print(\"TensorFlow version:\", tf.__version__ )"
   ]
  },
  {
   "cell_type": "code",
   "execution_count": 3,
   "id": "protecting-formula",
   "metadata": {},
   "outputs": [
    {
     "name": "stdout",
     "output_type": "stream",
     "text": [
      "Eager execution is: True\n"
     ]
    }
   ],
   "source": [
    "print (\"Eager execution is:\", tf. executing_eagerly ())"
   ]
  },
  {
   "cell_type": "markdown",
   "id": "silver-bhutan",
   "metadata": {},
   "source": [
    "# Tensor\n",
    "TensorFlow中的 \"Tensor\", 表示张量，其实就是**多维数组**。\n",
    "- Python中的列表Iist\n",
    "- NumPy中的数组对象ndarray\n",
    "\n",
    "<img src=\"https://i.loli.net/2021/03/18/pbTBmeiUIhvwKYW.png\" alt=\"image-20210317184050936\" style=\"zoom: 50%;\" />"
   ]
  },
  {
   "cell_type": "markdown",
   "id": "sporting-feedback",
   "metadata": {},
   "source": [
    "### 创建Tensor对象\n",
    "\n",
    "张量由Tensor类实现，每个张量都是一个Tensor对象\n",
    "\n",
    "- tf.constant()函数:\n",
    "  创建张量\n",
    "\n",
    "  ```python\n",
    "  tf.constant(value, dtype, shape)\n",
    "  ```\n",
    "\n",
    "  - value : 数字/Python列表/NumPy数组\n",
    "  - dtype: 元素的数据类型 \n",
    "  - shape: 张量的形状"
   ]
  },
  {
   "cell_type": "code",
   "execution_count": 5,
   "id": "patient-region",
   "metadata": {},
   "outputs": [
    {
     "data": {
      "text/plain": [
       "<tf.Tensor: shape=(2, 2), dtype=int32, numpy=\n",
       "array([[1, 2],\n",
       "       [3, 4]], dtype=int32)>"
      ]
     },
     "execution_count": 5,
     "metadata": {},
     "output_type": "execute_result"
    }
   ],
   "source": [
    "tf. constant ([[1,2],[3,4]])"
   ]
  },
  {
   "cell_type": "code",
   "execution_count": 34,
   "id": "opened-running",
   "metadata": {},
   "outputs": [
    {
     "name": "stdout",
     "output_type": "stream",
     "text": [
      "<dtype: 'int32'>\n",
      "(2,)\n",
      "1\n",
      "tf.Tensor(1, shape=(), dtype=int32)\n"
     ]
    }
   ],
   "source": [
    "a = tf.constant([2,3])\n",
    "print(a.dtype,a.shape,a.ndim,sep='\\n')\n",
    "print(tf.rank(a))"
   ]
  },
  {
   "cell_type": "markdown",
   "id": "absolute-proof",
   "metadata": {},
   "source": [
    "### 张量元素的数据类型\n",
    "\n",
    "<img src=\"https://i.loli.net/2021/03/18/DEvSN84wPe6lTgL.png\" alt=\"image-20210317184944334\" style=\"zoom:50%;\" />\n",
    "\n"
   ]
  },
  {
   "cell_type": "markdown",
   "id": "minute-addition",
   "metadata": {},
   "source": [
    "### `tf.cast()`: 改变张量中元素的数据类型\n",
    "\n",
    "```python\n",
    "tf.cast (x, dtype)\n",
    "```\n",
    "\n"
   ]
  },
  {
   "cell_type": "code",
   "execution_count": 7,
   "id": "competitive-jersey",
   "metadata": {},
   "outputs": [
    {
     "name": "stdout",
     "output_type": "stream",
     "text": [
      "<dtype: 'float64'>\n",
      "<dtype: 'float32'>\n"
     ]
    }
   ],
   "source": [
    "# example\n",
    "a = tf.constant(np.array([1.,2.]))\n",
    "print(a.dtype)\n",
    "\n",
    "b = tf.cast(a,dtype=tf.float32)\n",
    "print(b.dtype)"
   ]
  },
  {
   "cell_type": "markdown",
   "id": "weighted-chapter",
   "metadata": {},
   "source": [
    " \n",
    "### 创建全0/1张量\n",
    "\n",
    "```python\n",
    "# all-0 tensor\n",
    "tf.zeros( shape, dtype = tf.float32)\n",
    "\n",
    "# all-1 tensor\n",
    "tf.ones( shape, dtype= tf.float32)\n",
    "```\n",
    "\n"
   ]
  },
  {
   "cell_type": "code",
   "execution_count": 8,
   "id": "fewer-florida",
   "metadata": {},
   "outputs": [
    {
     "data": {
      "text/plain": [
       "<tf.Tensor: shape=(6,), dtype=float32, numpy=array([0., 0., 0., 0., 0., 0.], dtype=float32)>"
      ]
     },
     "execution_count": 8,
     "metadata": {},
     "output_type": "execute_result"
    }
   ],
   "source": [
    "tf.zeros((6))"
   ]
  },
  {
   "cell_type": "code",
   "execution_count": 9,
   "id": "rapid-irrigation",
   "metadata": {},
   "outputs": [
    {
     "data": {
      "text/plain": [
       "<tf.Tensor: shape=(2, 1), dtype=float32, numpy=\n",
       "array([[1.],\n",
       "       [1.]], dtype=float32)>"
      ]
     },
     "execution_count": 9,
     "metadata": {},
     "output_type": "execute_result"
    }
   ],
   "source": [
    "tf.ones((2,1))"
   ]
  },
  {
   "cell_type": "markdown",
   "id": "killing-mambo",
   "metadata": {},
   "source": [
    "### 创建元素值都相同的张量—— `tf.fill()`函数\n",
    "\n",
    "```python\n",
    "tf.fill( dims, value )\n",
    "```\n",
    "\n"
   ]
  },
  {
   "cell_type": "code",
   "execution_count": 11,
   "id": "different-slovakia",
   "metadata": {},
   "outputs": [
    {
     "data": {
      "text/plain": [
       "<tf.Tensor: shape=(2, 3), dtype=int32, numpy=\n",
       "array([[9, 9, 9],\n",
       "       [9, 9, 9]], dtype=int32)>"
      ]
     },
     "execution_count": 11,
     "metadata": {},
     "output_type": "execute_result"
    }
   ],
   "source": [
    "tf. fill([2,3], 9)"
   ]
  },
  {
   "cell_type": "markdown",
   "id": "generic-mustang",
   "metadata": {},
   "source": [
    "### 创建随机数张量一一正态分布\n",
    "\n",
    "```python\n",
    "tf.random.normal( shape, mean=0, stddev=1, dtype)\n",
    "```\n",
    "\n"
   ]
  },
  {
   "cell_type": "code",
   "execution_count": 12,
   "id": "systematic-special",
   "metadata": {},
   "outputs": [
    {
     "data": {
      "text/plain": [
       "<tf.Tensor: shape=(2, 2), dtype=float32, numpy=\n",
       "array([[1.4484229 , 1.3438134 ],\n",
       "       [0.53851694, 0.39199248]], dtype=float32)>"
      ]
     },
     "execution_count": 12,
     "metadata": {},
     "output_type": "execute_result"
    }
   ],
   "source": [
    "tf. random. normal ([2,2])"
   ]
  },
  {
   "cell_type": "markdown",
   "id": "satellite-roller",
   "metadata": {},
   "source": [
    "### 创建随机数张量一截断正态分布\n",
    "\n",
    "```python\n",
    "tf.random.truncated normal( shape, mean, stddev, dtype)\n",
    "```\n",
    "- 返回一个截断的正态分布 \n",
    "- 截断的标准是2倍的标准差\n",
    "\n",
    "例如，当均值为0，标准差为1时\n",
    "- 使用tf.truncated_normal()，不可能出现区间[-2,2]以外的点\n",
    "- 使用tf.random_normal()，可能出现[-2,2]以外的点"
   ]
  },
  {
   "cell_type": "markdown",
   "id": "needed-tunnel",
   "metadata": {},
   "source": [
    "### 设置随机种子一一tf.random.set_seed()函数"
   ]
  },
  {
   "cell_type": "code",
   "execution_count": 14,
   "id": "protecting-implementation",
   "metadata": {},
   "outputs": [
    {
     "data": {
      "text/plain": [
       "<tf.Tensor: shape=(2, 2), dtype=float32, numpy=\n",
       "array([[ 1.2074401, -0.7452462],\n",
       "       [ 0.6908678, -0.7635988]], dtype=float32)>"
      ]
     },
     "execution_count": 14,
     "metadata": {},
     "output_type": "execute_result"
    }
   ],
   "source": [
    "tf.random.set_seed(8)\n",
    "tf.random.normal((2,2))"
   ]
  },
  {
   "cell_type": "code",
   "execution_count": 15,
   "id": "cosmetic-spelling",
   "metadata": {},
   "outputs": [
    {
     "data": {
      "text/plain": [
       "<tf.Tensor: shape=(2, 2), dtype=float32, numpy=\n",
       "array([[ 1.2074401, -0.7452462],\n",
       "       [ 0.6908678, -0.7635988]], dtype=float32)>"
      ]
     },
     "execution_count": 15,
     "metadata": {},
     "output_type": "execute_result"
    }
   ],
   "source": [
    "tf.random.set_seed(8)\n",
    "tf.random.normal((2,2))"
   ]
  },
  {
   "cell_type": "code",
   "execution_count": 16,
   "id": "technological-boulder",
   "metadata": {},
   "outputs": [
    {
     "data": {
      "text/plain": [
       "<tf.Tensor: shape=(2, 2), dtype=float32, numpy=\n",
       "array([[-1.2324815 ,  0.06311513],\n",
       "       [ 0.8433409 , -0.05603401]], dtype=float32)>"
      ]
     },
     "execution_count": 16,
     "metadata": {},
     "output_type": "execute_result"
    }
   ],
   "source": [
    "tf.random.set_seed(9)\n",
    "tf.random.normal((2,2))"
   ]
  },
  {
   "cell_type": "markdown",
   "id": "alone-retrieval",
   "metadata": {},
   "source": [
    "### 创建均匀分布张量一一tf.random.uniform()函数\n",
    "\n",
    "```python\n",
    "tf.random.uniform(shape,minval, maxval, dtype)\n",
    "```\n",
    "\n",
    "- 前闭后开\n",
    "\n"
   ]
  },
  {
   "cell_type": "code",
   "execution_count": 18,
   "id": "composite-mistress",
   "metadata": {},
   "outputs": [
    {
     "data": {
      "text/plain": [
       "<tf.Tensor: shape=(3, 3), dtype=int32, numpy=\n",
       "array([[5, 6, 9],\n",
       "       [6, 4, 8],\n",
       "       [1, 2, 1]], dtype=int32)>"
      ]
     },
     "execution_count": 18,
     "metadata": {},
     "output_type": "execute_result"
    }
   ],
   "source": [
    "tf. random. uniform (shape =(3,3), minval =0, maxval =10, dtype = tf.int32)"
   ]
  },
  {
   "cell_type": "markdown",
   "id": "black-gentleman",
   "metadata": {},
   "source": [
    "### 洗牌函数：`tf.random.shuffle()`函数\n",
    "\n",
    "- 沿着**第一维**打乱\n"
   ]
  },
  {
   "cell_type": "code",
   "execution_count": 20,
   "id": "divine-norfolk",
   "metadata": {},
   "outputs": [
    {
     "data": {
      "text/plain": [
       "<tf.Tensor: shape=(3, 2), dtype=int32, numpy=\n",
       "array([[3, 4],\n",
       "       [5, 6],\n",
       "       [1, 2]], dtype=int32)>"
      ]
     },
     "execution_count": 20,
     "metadata": {},
     "output_type": "execute_result"
    }
   ],
   "source": [
    "a = tf.constant([[1,2],[3,4],[5,6]])\n",
    "tf.random.shuffle(a)"
   ]
  },
  {
   "cell_type": "code",
   "execution_count": 21,
   "id": "automotive-borough",
   "metadata": {},
   "outputs": [
    {
     "data": {
      "text/plain": [
       "<tf.Tensor: shape=(6,), dtype=int32, numpy=array([1, 3, 4, 2, 6, 5], dtype=int32)>"
      ]
     },
     "execution_count": 21,
     "metadata": {},
     "output_type": "execute_result"
    }
   ],
   "source": [
    "y = [1,2,3,4,5,6]\n",
    "tf.random.shuffle(y)"
   ]
  },
  {
   "cell_type": "code",
   "execution_count": 22,
   "id": "separate-second",
   "metadata": {},
   "outputs": [
    {
     "data": {
      "text/plain": [
       "<tf.Tensor: shape=(5,), dtype=int64, numpy=array([1, 4, 2, 3, 0])>"
      ]
     },
     "execution_count": 22,
     "metadata": {},
     "output_type": "execute_result"
    }
   ],
   "source": [
    "z = np.arange(5)\n",
    "tf.random.shuffle(z)"
   ]
  },
  {
   "cell_type": "markdown",
   "id": "protective-peter",
   "metadata": {},
   "source": [
    "### 创建序列一一`tf.range()`函数\n",
    "\n",
    "```python\n",
    "tf.range(start=0, limit, delta=1, dtype)\n",
    "```\n",
    "\n",
    "- 前闭后开\n",
    "\n"
   ]
  },
  {
   "cell_type": "code",
   "execution_count": 23,
   "id": "funded-blank",
   "metadata": {},
   "outputs": [
    {
     "data": {
      "text/plain": [
       "<tf.Tensor: shape=(10,), dtype=int32, numpy=array([0, 1, 2, 3, 4, 5, 6, 7, 8, 9], dtype=int32)>"
      ]
     },
     "execution_count": 23,
     "metadata": {},
     "output_type": "execute_result"
    }
   ],
   "source": [
    "tf. range (10)"
   ]
  },
  {
   "cell_type": "code",
   "execution_count": 26,
   "id": "continued-alarm",
   "metadata": {},
   "outputs": [
    {
     "data": {
      "text/plain": [
       "<tf.Tensor: shape=(5,), dtype=int32, numpy=array([0, 2, 4, 6, 8], dtype=int32)>"
      ]
     },
     "execution_count": 26,
     "metadata": {},
     "output_type": "execute_result"
    }
   ],
   "source": [
    "tf. range (10,delta=2)"
   ]
  },
  {
   "cell_type": "code",
   "execution_count": 27,
   "id": "reported-gabriel",
   "metadata": {},
   "outputs": [
    {
     "data": {
      "text/plain": [
       "<tf.Tensor: shape=(5,), dtype=int32, numpy=array([1, 3, 5, 7, 9], dtype=int32)>"
      ]
     },
     "execution_count": 27,
     "metadata": {},
     "output_type": "execute_result"
    }
   ],
   "source": [
    "tf. range (1,10,delta=2)"
   ]
  },
  {
   "cell_type": "code",
   "execution_count": null,
   "id": "polished-brief",
   "metadata": {},
   "outputs": [],
   "source": []
  }
 ],
 "metadata": {
  "kernelspec": {
   "display_name": "Python 3",
   "language": "python",
   "name": "python3"
  },
  "language_info": {
   "codemirror_mode": {
    "name": "ipython",
    "version": 3
   },
   "file_extension": ".py",
   "mimetype": "text/x-python",
   "name": "python",
   "nbconvert_exporter": "python",
   "pygments_lexer": "ipython3",
   "version": "3.7.3"
  }
 },
 "nbformat": 4,
 "nbformat_minor": 5
}
