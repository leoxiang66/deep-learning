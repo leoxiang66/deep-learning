{
 "cells": [
  {
   "cell_type": "markdown",
   "metadata": {},
   "source": [
    "# tensorflow 自动求导解决多元线性回归"
   ]
  },
  {
   "cell_type": "code",
   "execution_count": 1,
   "metadata": {},
   "outputs": [],
   "source": [
    "import tensorflow as tf\n",
    "import numpy as np\n"
   ]
  },
  {
   "cell_type": "code",
   "execution_count": 2,
   "metadata": {},
   "outputs": [],
   "source": [
    "area = np. array([137.97,  104.50,  100.00,  124.32,  79.20,  99.00,  124.00, \n",
    "               114.00,106.69,138.05,53.75,46.91,68.00,63.02,81.26,86.21])\n",
    "\n",
    "room = np.array([3,2,2,3,1,2,3,2,2,3,1,1,1,1,2,2])\n",
    "\n",
    "price = np. array([145.00,110.00,93.00,116.00,65.32,104.00,118.00,91.00,\n",
    "               62.00,133.00,51.00,45.00,78.50,  69.65,75.69,  95.30])\n",
    "num = len(area)"
   ]
  },
  {
   "cell_type": "markdown",
   "metadata": {},
   "source": [
    "- data preprocessing"
   ]
  },
  {
   "cell_type": "code",
   "execution_count": 3,
   "metadata": {},
   "outputs": [],
   "source": [
    "x0 = np.ones(num)\n",
    "\n",
    "# normalization\n",
    "x1 = (area - area.min())/(area.max()-area.min())\n",
    "x2 = (room - room.min())/(room.max()-room.min())\n",
    "\n",
    "X = np.stack([x0,x1,x2],axis = 1)\n",
    "Y = price.reshape(-1,1)"
   ]
  },
  {
   "cell_type": "markdown",
   "metadata": {},
   "source": [
    "- hyperparameters setup"
   ]
  },
  {
   "cell_type": "code",
   "execution_count": 4,
   "metadata": {},
   "outputs": [],
   "source": [
    "learn_rate = 0.2\n",
    "iter = 50\n",
    "\n",
    "display_step = 10"
   ]
  },
  {
   "cell_type": "markdown",
   "metadata": {},
   "source": []
  },
  {
   "cell_type": "code",
   "execution_count": 5,
   "metadata": {},
   "outputs": [],
   "source": [
    "np.random.seed(612)\n",
    "W=tf.Variable(np.random.randn(3,1))"
   ]
  },
  {
   "cell_type": "markdown",
   "metadata": {},
   "source": [
    "- train model"
   ]
  },
  {
   "cell_type": "code",
   "execution_count": 7,
   "metadata": {},
   "outputs": [
    {
     "name": "stdout",
     "output_type": "stream",
     "text": [
      "i: 0, Loss: 4593.851656430875\n",
      "i: 10, Loss: 85.48086884620056\n",
      "i: 20, Loss: 82.08095268646437\n",
      "i: 30, Loss: 81.40894780182755\n",
      "i: 40, Loss: 81.02584132561475\n",
      "i: 50, Loss: 80.80345038093054\n"
     ]
    }
   ],
   "source": [
    "mse = []\n",
    "\n",
    "for i in range(iter+1):\n",
    "    with tf.GradientTape() as tape:\n",
    "        PRED = tf.matmul(X,W)\n",
    "        Loss = 0.5 * tf.reduce_mean(tf.square(Y-PRED)) \n",
    "    \n",
    "    mse.append(Loss)\n",
    "    \n",
    "    dl_dw = tape.gradient(Loss,W)\n",
    "    W.assign_sub(learn_rate * dl_dw)\n",
    "    \n",
    "    if i%display_step ==0:\n",
    "        print(f'i: {i}, Loss: {Loss}')"
   ]
  }
 ],
 "metadata": {
  "kernelspec": {
   "display_name": "Python 3",
   "language": "python",
   "name": "python3"
  },
  "language_info": {
   "codemirror_mode": {
    "name": "ipython",
    "version": 3
   },
   "file_extension": ".py",
   "mimetype": "text/x-python",
   "name": "python",
   "nbconvert_exporter": "python",
   "pygments_lexer": "ipython3",
   "version": "3.7.3"
  }
 },
 "nbformat": 4,
 "nbformat_minor": 4
}
