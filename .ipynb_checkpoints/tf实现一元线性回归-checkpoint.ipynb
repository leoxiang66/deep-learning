{
 "cells": [
  {
   "cell_type": "code",
   "execution_count": 1,
   "metadata": {},
   "outputs": [],
   "source": [
    "import tensorflow as tf"
   ]
  },
  {
   "cell_type": "code",
   "execution_count": 2,
   "metadata": {},
   "outputs": [],
   "source": [
    "x = tf. constant([137.97,  104.50,  100.00,  124.32,  79.20,  99.00,  124.00, \n",
    "               114.00,106.69,138.05,53.75,46.91,68.00,63.02,81.26,86.21])\n",
    "y = tf. constant([145.00,110.00,93.00,116.00,65.32,104.00,118.00,91.00,\n",
    "               62.00,133.00,51.00,45.00,78.50,  69.65,75.69,  95.30])"
   ]
  },
  {
   "cell_type": "markdown",
   "metadata": {},
   "source": [
    "1. 学习模型：计算w，b\n"
   ]
  },
  {
   "cell_type": "code",
   "execution_count": 3,
   "metadata": {},
   "outputs": [],
   "source": [
    "meanX = tf.reduce_mean(x)\n",
    "meanY = tf.reduce_mean(y)"
   ]
  },
  {
   "cell_type": "code",
   "execution_count": 4,
   "metadata": {},
   "outputs": [],
   "source": [
    "sumXY = tf.reduce_sum((x-meanX)*(y-meanY))\n",
    "sumX = tf.reduce_sum((x-meanX)*(x-meanX))"
   ]
  },
  {
   "cell_type": "code",
   "execution_count": 5,
   "metadata": {},
   "outputs": [],
   "source": [
    "w = sumXY / sumX\n",
    "b = meanY - w*meanX"
   ]
  },
  {
   "cell_type": "code",
   "execution_count": 6,
   "metadata": {},
   "outputs": [
    {
     "name": "stdout",
     "output_type": "stream",
     "text": [
      "w= tf.Tensor(0.8945604, shape=(), dtype=float32)\n",
      "b= tf.Tensor(5.4108505, shape=(), dtype=float32)\n"
     ]
    }
   ],
   "source": [
    "print(\"w=\",w)\n",
    "print('b=',b)"
   ]
  },
  {
   "cell_type": "markdown",
   "metadata": {},
   "source": [
    "2. 预测"
   ]
  },
  {
   "cell_type": "code",
   "execution_count": 7,
   "metadata": {},
   "outputs": [
    {
     "data": {
      "text/plain": [
       "<tf.Tensor: shape=(8,), dtype=float32, numpy=\n",
       "array([120.04876 ,  45.66607 , 131.92853 , 100.475784,  93.97233 ,\n",
       "        53.573982,  81.77052 ,  68.030075], dtype=float32)>"
      ]
     },
     "execution_count": 7,
     "metadata": {},
     "output_type": "execute_result"
    }
   ],
   "source": [
    "x_test = tf.constant([128.15,45.00,141.43,106.27,99.00,53.84,85.36,70.00])\n",
    "y_pred = w*x_test+b\n",
    "\n",
    "y_pred"
   ]
  },
  {
   "cell_type": "code",
   "execution_count": 8,
   "metadata": {},
   "outputs": [
    {
     "name": "stdout",
     "output_type": "stream",
     "text": [
      "面积\t估计房价\n",
      "tf.Tensor(128.15, shape=(), dtype=float32) \t tf.Tensor(120.0, shape=(), dtype=float32)\n",
      "tf.Tensor(45.0, shape=(), dtype=float32) \t tf.Tensor(46.0, shape=(), dtype=float32)\n",
      "tf.Tensor(141.43, shape=(), dtype=float32) \t tf.Tensor(132.0, shape=(), dtype=float32)\n",
      "tf.Tensor(106.27, shape=(), dtype=float32) \t tf.Tensor(100.0, shape=(), dtype=float32)\n",
      "tf.Tensor(99.0, shape=(), dtype=float32) \t tf.Tensor(94.0, shape=(), dtype=float32)\n",
      "tf.Tensor(53.84, shape=(), dtype=float32) \t tf.Tensor(54.0, shape=(), dtype=float32)\n",
      "tf.Tensor(85.36, shape=(), dtype=float32) \t tf.Tensor(82.0, shape=(), dtype=float32)\n",
      "tf.Tensor(70.0, shape=(), dtype=float32) \t tf.Tensor(68.0, shape=(), dtype=float32)\n"
     ]
    }
   ],
   "source": [
    "print (\"面积\\t估计房价\") \n",
    "for i in range (len(y_pred)):\n",
    "    print(x_test[i], '\\t',tf.round(y_pred[i]))"
   ]
  }
 ],
 "metadata": {
  "kernelspec": {
   "display_name": "Python 3",
   "language": "python",
   "name": "python3"
  },
  "language_info": {
   "codemirror_mode": {
    "name": "ipython",
    "version": 3
   },
   "file_extension": ".py",
   "mimetype": "text/x-python",
   "name": "python",
   "nbconvert_exporter": "python",
   "pygments_lexer": "ipython3",
   "version": "3.8.5"
  }
 },
 "nbformat": 4,
 "nbformat_minor": 5
}
