{
 "cells": [
  {
   "cell_type": "markdown",
   "metadata": {},
   "source": [
    "# 解析法实现多元线性回归\n",
    "\n",
    "### 基本步骤\n",
    "<img src=\"https://i.loli.net/2021/03/18/lnrEiVIewMCdO8T.png\" alt=\"image-20210318111013571\" style=\"zoom:50%;\" />"
   ]
  },
  {
   "cell_type": "code",
   "execution_count": 1,
   "metadata": {},
   "outputs": [],
   "source": [
    "import numpy as np"
   ]
  },
  {
   "cell_type": "markdown",
   "metadata": {},
   "source": [
    "1. 加载数据"
   ]
  },
  {
   "cell_type": "code",
   "execution_count": 2,
   "metadata": {},
   "outputs": [],
   "source": [
    "x1 = np. array([137.97,  104.50,  100.00,  124.32,  79.20,  99.00,  124.00, \n",
    "               114.00,106.69,138.05,53.75,46.91,68.00,63.02,81.26,86.21])\n",
    "\n",
    "x2 = np.array([3,2,2,3,1,2,3,2,2,3,1,1,1,1,2,2])\n",
    "\n",
    "y = np. array([145.00,110.00,93.00,116.00,65.32,104.00,118.00,91.00,\n",
    "               62.00,133.00,51.00,45.00,78.50,  69.65,75.69,  95.30])"
   ]
  },
  {
   "cell_type": "code",
   "execution_count": 4,
   "metadata": {},
   "outputs": [
    {
     "data": {
      "text/plain": [
       "((16,), (16,), (16,))"
      ]
     },
     "execution_count": 4,
     "metadata": {},
     "output_type": "execute_result"
    }
   ],
   "source": [
    "x1.shape, x2.shape, y.shape"
   ]
  },
  {
   "cell_type": "markdown",
   "metadata": {},
   "source": [
    "2. 数据处理\n",
    "\n",
    "<img src=\"https://i.loli.net/2021/03/18/Gep64RigN98Utks.png\" alt=\"image-20210318111655704\" style=\"zoom:50%;\" />"
   ]
  },
  {
   "cell_type": "code",
   "execution_count": 5,
   "metadata": {},
   "outputs": [],
   "source": [
    "x0 = np.ones(len(x1))"
   ]
  },
  {
   "cell_type": "code",
   "execution_count": 7,
   "metadata": {},
   "outputs": [
    {
     "data": {
      "text/plain": [
       "array([[  1.  , 137.97,   3.  ],\n",
       "       [  1.  , 104.5 ,   2.  ],\n",
       "       [  1.  , 100.  ,   2.  ],\n",
       "       [  1.  , 124.32,   3.  ],\n",
       "       [  1.  ,  79.2 ,   1.  ],\n",
       "       [  1.  ,  99.  ,   2.  ],\n",
       "       [  1.  , 124.  ,   3.  ],\n",
       "       [  1.  , 114.  ,   2.  ],\n",
       "       [  1.  , 106.69,   2.  ],\n",
       "       [  1.  , 138.05,   3.  ],\n",
       "       [  1.  ,  53.75,   1.  ],\n",
       "       [  1.  ,  46.91,   1.  ],\n",
       "       [  1.  ,  68.  ,   1.  ],\n",
       "       [  1.  ,  63.02,   1.  ],\n",
       "       [  1.  ,  81.26,   2.  ],\n",
       "       [  1.  ,  86.21,   2.  ]])"
      ]
     },
     "execution_count": 7,
     "metadata": {},
     "output_type": "execute_result"
    }
   ],
   "source": [
    "X = np.stack((x0,x1,x2),axis=1)\n",
    "X"
   ]
  },
  {
   "cell_type": "code",
   "execution_count": 8,
   "metadata": {},
   "outputs": [
    {
     "data": {
      "text/plain": [
       "array([[145.  ],\n",
       "       [110.  ],\n",
       "       [ 93.  ],\n",
       "       [116.  ],\n",
       "       [ 65.32],\n",
       "       [104.  ],\n",
       "       [118.  ],\n",
       "       [ 91.  ],\n",
       "       [ 62.  ],\n",
       "       [133.  ],\n",
       "       [ 51.  ],\n",
       "       [ 45.  ],\n",
       "       [ 78.5 ],\n",
       "       [ 69.65],\n",
       "       [ 75.69],\n",
       "       [ 95.3 ]])"
      ]
     },
     "execution_count": 8,
     "metadata": {},
     "output_type": "execute_result"
    }
   ],
   "source": [
    "Y = y.reshape(-1,1)\n",
    "Y"
   ]
  },
  {
   "cell_type": "markdown",
   "metadata": {},
   "source": [
    "3. 求解模型参数\n",
    "\n",
    "<img src=\"https://i.loli.net/2021/03/18/NjqS4sio7VrhL2I.png\" alt=\"image-20210318112003778\" style=\"zoom:50%;\" />"
   ]
  },
  {
   "cell_type": "code",
   "execution_count": 14,
   "metadata": {},
   "outputs": [
    {
     "data": {
      "text/plain": [
       "array([11.96729093,  0.53488599, 14.33150378])"
      ]
     },
     "execution_count": 14,
     "metadata": {},
     "output_type": "execute_result"
    }
   ],
   "source": [
    "Xt = X.T\n",
    "XtX_1 = np.linalg.inv(Xt@X)\n",
    "W = (XtX_1@Xt)@Y\n",
    "W=W.reshape(-1)\n",
    "W"
   ]
  },
  {
   "cell_type": "code",
   "execution_count": 15,
   "metadata": {},
   "outputs": [
    {
     "name": "stdout",
     "output_type": "stream",
     "text": [
      "多元线性回归方程: \n",
      "Y= 0.5348859949724747*x1 + 14.331503777673149*x2 + 11.967290930535732\n"
     ]
    }
   ],
   "source": [
    "print(\"多元线性回归方程: \")\n",
    "print(f'Y= {W[1]}*x1 + {W[2]}*x2 + {W[0]}')"
   ]
  },
  {
   "cell_type": "markdown",
   "metadata": {},
   "source": [
    "4. 预测房价"
   ]
  },
  {
   "cell_type": "code",
   "execution_count": 21,
   "metadata": {},
   "outputs": [
    {
     "name": "stdout",
     "output_type": "stream",
     "text": [
      "请输入房屋面积和房间数，预测房屋销售价格: \n"
     ]
    },
    {
     "name": "stdin",
     "output_type": "stream",
     "text": [
      "面积= 140\n",
      "房间数= 3\n"
     ]
    },
    {
     "name": "stdout",
     "output_type": "stream",
     "text": [
      "房价= 129.85 万元\n"
     ]
    }
   ],
   "source": [
    "print( \"请输入房屋面积和房间数，预测房屋销售价格: \") \n",
    "x1_test = float(input('面积='))\n",
    "x2_test = int(input('房间数='))\n",
    "\n",
    "y_pred = W[1]*x1_test + W[2]*x2_test + W[0]\n",
    "print('房价=',np.round(y_pred,2),'万元')"
   ]
  }
 ],
 "metadata": {
  "kernelspec": {
   "display_name": "Python 3",
   "language": "python",
   "name": "python3"
  },
  "language_info": {
   "codemirror_mode": {
    "name": "ipython",
    "version": 3
   },
   "file_extension": ".py",
   "mimetype": "text/x-python",
   "name": "python",
   "nbconvert_exporter": "python",
   "pygments_lexer": "ipython3",
   "version": "3.8.5"
  }
 },
 "nbformat": 4,
 "nbformat_minor": 4
}
