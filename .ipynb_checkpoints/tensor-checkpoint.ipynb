{
 "cells": [
  {
   "cell_type": "code",
   "execution_count": 2,
   "metadata": {},
   "outputs": [
    {
     "name": "stdout",
     "output_type": "stream",
     "text": [
      "TensorFlow version: 2.4.1\n"
     ]
    }
   ],
   "source": [
    "import tensorflow as tf \n",
    "print(\"TensorFlow version:\", tf.__version__ )"
   ]
  },
  {
   "cell_type": "code",
   "execution_count": 3,
   "metadata": {},
   "outputs": [
    {
     "name": "stdout",
     "output_type": "stream",
     "text": [
      "Eager execution is: True\n"
     ]
    }
   ],
   "source": [
    "print (\"Eager execution is:\", tf. executing_eagerly ())"
   ]
  },
  {
   "cell_type": "markdown",
   "metadata": {},
   "source": [
    "# Tensor\n",
    "TensorFlow中的 \"Tensor\", 表示张量，其实就是**多维数组**。\n",
    "- Python中的列表Iist\n",
    "- NumPy中的数组对象ndarray\n",
    "\n",
    "<img src=\"https://i.loli.net/2021/03/18/pbTBmeiUIhvwKYW.png\" alt=\"image-20210317184050936\" style=\"zoom: 50%;\" />"
   ]
  },
  {
   "cell_type": "markdown",
   "metadata": {},
   "source": [
    "### 创建Tensor对象\n",
    "\n",
    "张量由Tensor类实现，每个张量都是一个Tensor对象\n",
    "\n",
    "- tf.constant()函数:\n",
    "  创建张量\n",
    "\n",
    "  ```python\n",
    "  tf.constant(value, dtype, shape)\n",
    "  ```\n",
    "\n",
    "  - value : 数字/Python列表/NumPy数组\n",
    "  - dtype: 元素的数据类型 \n",
    "  - shape: 张量的形状"
   ]
  },
  {
   "cell_type": "code",
   "execution_count": 5,
   "metadata": {},
   "outputs": [
    {
     "data": {
      "text/plain": [
       "<tf.Tensor: shape=(2, 2), dtype=int32, numpy=\n",
       "array([[1, 2],\n",
       "       [3, 4]], dtype=int32)>"
      ]
     },
     "execution_count": 5,
     "metadata": {},
     "output_type": "execute_result"
    }
   ],
   "source": [
    "tf. constant ([[1,2],[3,4]])"
   ]
  },
  {
   "cell_type": "code",
   "execution_count": null,
   "metadata": {},
   "outputs": [],
   "source": []
  }
 ],
 "metadata": {
  "kernelspec": {
   "display_name": "Python 3",
   "language": "python",
   "name": "python3"
  },
  "language_info": {
   "codemirror_mode": {
    "name": "ipython",
    "version": 3
   },
   "file_extension": ".py",
   "mimetype": "text/x-python",
   "name": "python",
   "nbconvert_exporter": "python",
   "pygments_lexer": "ipython3",
   "version": "3.8.5"
  }
 },
 "nbformat": 4,
 "nbformat_minor": 5
}
