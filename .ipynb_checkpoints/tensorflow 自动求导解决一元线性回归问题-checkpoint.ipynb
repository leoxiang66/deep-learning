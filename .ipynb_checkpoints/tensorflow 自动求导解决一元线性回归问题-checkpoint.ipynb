{
 "cells": [
  {
   "cell_type": "markdown",
   "metadata": {},
   "source": [
    "# tensorflow 自动求导解决一元线性回归问题"
   ]
  },
  {
   "cell_type": "code",
   "execution_count": 2,
   "metadata": {},
   "outputs": [],
   "source": [
    "import numpy as np\n",
    "import matplotlib.pyplot as plt\n",
    "import tensorflow as tf"
   ]
  },
  {
   "cell_type": "markdown",
   "metadata": {},
   "source": [
    "1) 加载数据"
   ]
  },
  {
   "cell_type": "code",
   "execution_count": 3,
   "metadata": {},
   "outputs": [],
   "source": [
    "x = np. array([137.97,  104.50,  100.00,  124.32,  79.20,  99.00,  124.00, \n",
    "               114.00,106.69,138.05,53.75,46.91,68.00,63.02,81.26,86.21])\n",
    "y = np. array([145.00,110.00,93.00,116.00,65.32,104.00,118.00,91.00,\n",
    "               62.00,133.00,51.00,45.00,78.50,  69.65,75.69,  95.30])"
   ]
  },
  {
   "cell_type": "markdown",
   "metadata": {},
   "source": [
    "2) 设置hyperparameters"
   ]
  },
  {
   "cell_type": "code",
   "execution_count": 4,
   "metadata": {},
   "outputs": [],
   "source": [
    "learn_rate = 0.00001\n",
    "iter = 100\n",
    "\n",
    "display_step = 10"
   ]
  },
  {
   "cell_type": "markdown",
   "metadata": {},
   "source": [
    "3) 初始化model "
   ]
  },
  {
   "cell_type": "code",
   "execution_count": 5,
   "metadata": {},
   "outputs": [],
   "source": [
    "np.random.seed(612)\n",
    "w = tf.Variable(np.random.randn())\n",
    "b = tf.Variable(np.random.randn())"
   ]
  },
  {
   "cell_type": "markdown",
   "metadata": {},
   "source": [
    "4) 更新model"
   ]
  },
  {
   "cell_type": "code",
   "execution_count": 7,
   "metadata": {},
   "outputs": [
    {
     "name": "stdout",
     "output_type": "stream",
     "text": [
      "i: 0, Loss: 89.15718841552734, w: 0.9579612612724304, b: -1.152991771697998\n",
      "i: 10, Loss: 89.15717315673828, w: 0.9579762816429138, b: -1.1529405117034912\n",
      "i: 20, Loss: 89.1571273803711, w: 0.9579813480377197, b: -1.1528892517089844\n",
      "i: 30, Loss: 89.15711212158203, w: 0.9579827189445496, b: -1.1528379917144775\n",
      "i: 40, Loss: 89.1570816040039, w: 0.9579828977584839, b: -1.1527867317199707\n",
      "i: 50, Loss: 89.15705108642578, w: 0.9579826593399048, b: -1.1527354717254639\n",
      "i: 60, Loss: 89.15703582763672, w: 0.9579821228981018, b: -1.152684211730957\n",
      "i: 70, Loss: 89.15701293945312, w: 0.9579816460609436, b: -1.1526329517364502\n",
      "i: 80, Loss: 89.15697479248047, w: 0.9579811692237854, b: -1.1525816917419434\n",
      "i: 90, Loss: 89.15696716308594, w: 0.9579806327819824, b: -1.1525304317474365\n",
      "i: 100, Loss: 89.15692901611328, w: 0.9579801559448242, b: -1.1524791717529297\n"
     ]
    }
   ],
   "source": [
    "mse = []\n",
    "\n",
    "for i in range(iter+1):\n",
    "    with tf.GradientTape() as tape:\n",
    "        pred = w*x + b\n",
    "        Loss = 0.5*tf.reduce_mean(tf.square(y-pred))\n",
    "        \n",
    "    mse.append(Loss)\n",
    "    \n",
    "    dl_dw,dl_db = tape.gradient(Loss,[w,b])\n",
    "    \n",
    "    w.assign_sub(learn_rate*dl_dw)\n",
    "    b.assign_sub(learn_rate*dl_db)\n",
    "    \n",
    "    if i % display_step == 0:\n",
    "        print(f'i: {i}, Loss: {Loss}, w: {w.numpy()}, b: {b.numpy()}')"
   ]
  },
  {
   "cell_type": "code",
   "execution_count": null,
   "metadata": {},
   "outputs": [],
   "source": []
  }
 ],
 "metadata": {
  "kernelspec": {
   "display_name": "Python 3",
   "language": "python",
   "name": "python3"
  },
  "language_info": {
   "codemirror_mode": {
    "name": "ipython",
    "version": 3
   },
   "file_extension": ".py",
   "mimetype": "text/x-python",
   "name": "python",
   "nbconvert_exporter": "python",
   "pygments_lexer": "ipython3",
   "version": "3.8.5"
  }
 },
 "nbformat": 4,
 "nbformat_minor": 4
}
