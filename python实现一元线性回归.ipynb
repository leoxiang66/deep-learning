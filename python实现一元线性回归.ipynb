{
 "cells": [
  {
   "cell_type": "markdown",
   "metadata": {},
   "source": [
    "# python 实现一元线性回归\n",
    "\n",
    "### 基本步骤\n",
    "<img src=\"https://i.loli.net/2021/03/18/tBZK76uiU3s1LeH.png\" alt=\"image-20210318101920144\" style=\"zoom:50%;\" />"
   ]
  },
  {
   "cell_type": "markdown",
   "metadata": {},
   "source": [
    "### Numpy 实现"
   ]
  },
  {
   "cell_type": "code",
   "execution_count": 5,
   "metadata": {},
   "outputs": [],
   "source": [
    "import numpy as np"
   ]
  },
  {
   "cell_type": "code",
   "execution_count": 6,
   "metadata": {},
   "outputs": [],
   "source": [
    "x = np. array([137.97,  104.50,  100.00,  124.32,  79.20,  99.00,  124.00, \n",
    "               114.00,106.69,138.05,53.75,46.91,68.00,63.02,81.26,86.21])\n",
    "y = np. array([145.00,110.00,93.00,116.00,65.32,104.00,118.00,91.00,\n",
    "               62.00,133.00,51.00,45.00,78.50,  69.65,75.69,  95.30])"
   ]
  },
  {
   "cell_type": "markdown",
   "metadata": {},
   "source": [
    "1. 学习模型：计算w，b\n"
   ]
  },
  {
   "cell_type": "code",
   "execution_count": 7,
   "metadata": {},
   "outputs": [],
   "source": [
    "meanX = np.mean(x)\n",
    "meanY = np.mean(y)"
   ]
  },
  {
   "cell_type": "code",
   "execution_count": 4,
   "metadata": {},
   "outputs": [],
   "source": [
    "sumXY = np.sum((x-meanX)*(y-meanY))\n",
    "sumX = np.sum((x-meanX)*(x-meanX))"
   ]
  },
  {
   "cell_type": "code",
   "execution_count": 8,
   "metadata": {},
   "outputs": [],
   "source": [
    "w = sumXY / sumX\n",
    "b = meanY - w*meanX"
   ]
  },
  {
   "cell_type": "code",
   "execution_count": 9,
   "metadata": {},
   "outputs": [
    {
     "name": "stdout",
     "output_type": "stream",
     "text": [
      "w= 0.894560512004422\n",
      "b= 5.410840339418002\n"
     ]
    }
   ],
   "source": [
    "print(\"w=\",w)\n",
    "print('b=',b)"
   ]
  },
  {
   "cell_type": "markdown",
   "metadata": {},
   "source": [
    "2. 预测"
   ]
  },
  {
   "cell_type": "code",
   "execution_count": 11,
   "metadata": {},
   "outputs": [
    {
     "data": {
      "text/plain": [
       "array([120.04876995,  45.66606338, 131.92853355, 100.47578595,\n",
       "        93.97233103,  53.57397831,  81.77052564,  68.03007618])"
      ]
     },
     "execution_count": 11,
     "metadata": {},
     "output_type": "execute_result"
    }
   ],
   "source": [
    "x_test = np.array([128.15,45.00,141.43,106.27,99.00,53.84,85.36,70.00])\n",
    "y_pred = w*x_test+b\n",
    "\n",
    "y_pred"
   ]
  },
  {
   "cell_type": "code",
   "execution_count": 13,
   "metadata": {},
   "outputs": [
    {
     "name": "stdout",
     "output_type": "stream",
     "text": [
      "面积\t估计房价\n",
      "128.15 \t 120.05\n",
      "45.0 \t 45.67\n",
      "141.43 \t 131.93\n",
      "106.27 \t 100.48\n",
      "99.0 \t 93.97\n",
      "53.84 \t 53.57\n",
      "85.36 \t 81.77\n",
      "70.0 \t 68.03\n"
     ]
    }
   ],
   "source": [
    "print (\"面积\\t估计房价\") \n",
    "for i in range (y_pred. size):\n",
    "    print(x_test[i], '\\t',np.round(y_pred[i],2))"
   ]
  }
 ],
 "metadata": {
  "kernelspec": {
   "display_name": "Python 3",
   "language": "python",
   "name": "python3"
  },
  "language_info": {
   "codemirror_mode": {
    "name": "ipython",
    "version": 3
   },
   "file_extension": ".py",
   "mimetype": "text/x-python",
   "name": "python",
   "nbconvert_exporter": "python",
   "pygments_lexer": "ipython3",
   "version": "3.8.5"
  }
 },
 "nbformat": 4,
 "nbformat_minor": 5
}
