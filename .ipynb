{
 "cells": [
  {
   "cell_type": "markdown",
   "id": "central-natural",
   "metadata": {},
   "source": [
    "# 卷积神经网络实例1： 手写数字识别"
   ]
  },
  {
   "cell_type": "code",
   "execution_count": 1,
   "id": "external-hughes",
   "metadata": {},
   "outputs": [],
   "source": [
    "import tensorflow as tf\n",
    "import numpy as np\n",
    "import matplotlib.pyplot as plt"
   ]
  },
  {
   "cell_type": "code",
   "execution_count": 3,
   "id": "adult-galaxy",
   "metadata": {},
   "outputs": [],
   "source": [
    "mnist = tf.keras.datasets.mnist\n",
    "(train_x,train_y),(test_x,test_y) = mnist.load_data()"
   ]
  },
  {
   "cell_type": "markdown",
   "id": "particular-dublin",
   "metadata": {},
   "source": [
    "1) load data"
   ]
  },
  {
   "cell_type": "code",
   "execution_count": 4,
   "id": "extended-marble",
   "metadata": {},
   "outputs": [
    {
     "name": "stdout",
     "output_type": "stream",
     "text": [
      "(60000, 28, 28) <class 'numpy.ndarray'>\n",
      "(60000,)\n",
      "(10000, 28, 28) <class 'numpy.ndarray'>\n",
      "(10000,)\n"
     ]
    }
   ],
   "source": [
    "print(train_x.shape,type(train_x))\n",
    "print(train_y.shape)\n",
    "print(test_x.shape,type(test_x))\n",
    "print(test_y.shape)"
   ]
  },
  {
   "cell_type": "markdown",
   "id": "finished-harmony",
   "metadata": {},
   "source": [
    "2) Data preprocessing"
   ]
  },
  {
   "cell_type": "code",
   "execution_count": 5,
   "id": "raised-arnold",
   "metadata": {},
   "outputs": [],
   "source": [
    "# normalization\n",
    "X_train, X_test=tf.cast(train_x/255.0, tf. float32), tf.cast(test_x/255.0, tf. float32)\n",
    "y_train,y_test=tf.cast(train_y,tf.int16),tf.cast(test_y,tf.int16)"
   ]
  },
  {
   "cell_type": "code",
   "execution_count": null,
   "id": "mathematical-ontario",
   "metadata": {},
   "outputs": [],
   "source": []
  }
 ],
 "metadata": {
  "kernelspec": {
   "display_name": "Python 3",
   "language": "python",
   "name": "python3"
  },
  "language_info": {
   "codemirror_mode": {
    "name": "ipython",
    "version": 3
   },
   "file_extension": ".py",
   "mimetype": "text/x-python",
   "name": "python",
   "nbconvert_exporter": "python",
   "pygments_lexer": "ipython3",
   "version": "3.8.5"
  }
 },
 "nbformat": 4,
 "nbformat_minor": 5
}
