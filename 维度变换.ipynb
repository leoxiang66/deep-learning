{
 "cells": [
  {
   "cell_type": "markdown",
   "id": "similar-pulse",
   "metadata": {},
   "source": [
    "### 改变张量的形状\n",
    "\n",
    "```python\n",
    "tf.reshape(tensor,shape)\n",
    "```\n",
    "\n"
   ]
  },
  {
   "cell_type": "code",
   "execution_count": 1,
   "id": "eligible-nebraska",
   "metadata": {},
   "outputs": [
    {
     "data": {
      "text/plain": [
       "<tf.Tensor: shape=(2, 3, 4), dtype=int64, numpy=\n",
       "array([[[ 0,  1,  2,  3],\n",
       "        [ 4,  5,  6,  7],\n",
       "        [ 8,  9, 10, 11]],\n",
       "\n",
       "       [[12, 13, 14, 15],\n",
       "        [16, 17, 18, 19],\n",
       "        [20, 21, 22, 23]]])>"
      ]
     },
     "execution_count": 1,
     "metadata": {},
     "output_type": "execute_result"
    }
   ],
   "source": [
    "import numpy as np\n",
    "import tensorflow as tf\n",
    "tf. constant (np. arange (24). reshape (2, 3, 4))"
   ]
  },
  {
   "cell_type": "markdown",
   "id": "equal-continuity",
   "metadata": {},
   "source": [
    "### 增加维度\n",
    "\n",
    "```python\n",
    "tf.expand_dims(input,axis)\n",
    "```\n",
    "\n",
    "增加的这个维度上，**长度为1**\n",
    "\n"
   ]
  },
  {
   "cell_type": "code",
   "execution_count": 4,
   "id": "friendly-significance",
   "metadata": {},
   "outputs": [
    {
     "name": "stdout",
     "output_type": "stream",
     "text": [
      "(2,)\n"
     ]
    }
   ],
   "source": [
    "t= tf. constant ([1,2])\n",
    "print (t. shape)"
   ]
  },
  {
   "cell_type": "code",
   "execution_count": 3,
   "id": "liberal-efficiency",
   "metadata": {},
   "outputs": [
    {
     "name": "stdout",
     "output_type": "stream",
     "text": [
      "(2, 1)\n"
     ]
    }
   ],
   "source": [
    "t =tf. expand_dims(t,1)\n",
    "print (t. shape)"
   ]
  },
  {
   "cell_type": "markdown",
   "id": "comic-charger",
   "metadata": {},
   "source": [
    "### 删除维度：只能删除长度为 1 的维度\n",
    "\n",
    "```python\n",
    "tf.squeeze( input, axis)\n",
    "```"
   ]
  },
  {
   "cell_type": "code",
   "execution_count": 8,
   "id": "stock-market",
   "metadata": {},
   "outputs": [
    {
     "name": "stdout",
     "output_type": "stream",
     "text": [
      "tf.Tensor(\n",
      "[[[[[1.]\n",
      "    [1.]\n",
      "    [1.]]]\n",
      "\n",
      "\n",
      "  [[[1.]\n",
      "    [1.]\n",
      "    [1.]]]]], shape=(1, 2, 1, 3, 1), dtype=float32)\n"
     ]
    }
   ],
   "source": [
    "t = tf.ones((1,2,1,3,1))\n",
    "print(t)"
   ]
  },
  {
   "cell_type": "code",
   "execution_count": 9,
   "id": "arctic-pilot",
   "metadata": {},
   "outputs": [
    {
     "data": {
      "text/plain": [
       "<tf.Tensor: shape=(2,), dtype=int32, numpy=array([2, 3], dtype=int32)>"
      ]
     },
     "execution_count": 9,
     "metadata": {},
     "output_type": "execute_result"
    }
   ],
   "source": [
    "t1 = tf.ones((1,2,1,3,1))\n",
    "tf.shape(tf.squeeze(t1))"
   ]
  },
  {
   "cell_type": "code",
   "execution_count": 10,
   "id": "structural-honor",
   "metadata": {},
   "outputs": [
    {
     "data": {
      "text/plain": [
       "<tf.Tensor: shape=(3,), dtype=int32, numpy=array([1, 2, 3], dtype=int32)>"
      ]
     },
     "execution_count": 10,
     "metadata": {},
     "output_type": "execute_result"
    }
   ],
   "source": [
    "t2 = tf.ones((1,2,1,3,1))\n",
    "tf.shape(tf.squeeze(t2,[2,4]))"
   ]
  },
  {
   "cell_type": "markdown",
   "id": "apparent-routine",
   "metadata": {},
   "source": [
    "### 交换维度\n",
    "\n",
    "```python\n",
    "tf.transpose(a, perm )\n",
    "```\n",
    "交换维度，不仅改变了张量的视图, 同时也改变了张量的存储顺序\n"
   ]
  },
  {
   "cell_type": "code",
   "execution_count": 11,
   "id": "still-mustang",
   "metadata": {},
   "outputs": [
    {
     "data": {
      "text/plain": [
       "<tf.Tensor: shape=(2, 3), dtype=int32, numpy=\n",
       "array([[1, 2, 3],\n",
       "       [4, 5, 6]], dtype=int32)>"
      ]
     },
     "execution_count": 11,
     "metadata": {},
     "output_type": "execute_result"
    }
   ],
   "source": [
    "x= tf. constant ([[1,2,3],[4,5,6]])\n",
    "x\n"
   ]
  },
  {
   "cell_type": "code",
   "execution_count": 12,
   "id": "international-match",
   "metadata": {},
   "outputs": [
    {
     "data": {
      "text/plain": [
       "<tf.Tensor: shape=(3, 2), dtype=int32, numpy=\n",
       "array([[1, 4],\n",
       "       [2, 5],\n",
       "       [3, 6]], dtype=int32)>"
      ]
     },
     "execution_count": 12,
     "metadata": {},
     "output_type": "execute_result"
    }
   ],
   "source": [
    "tf. transpose (x, perm =[1,0])"
   ]
  },
  {
   "cell_type": "markdown",
   "id": "invalid-shareware",
   "metadata": {},
   "source": [
    "### 拼接张量\n",
    "\n",
    "```python\n",
    "tf.concat( tensors, axis)\n",
    "```\n"
   ]
  },
  {
   "cell_type": "code",
   "execution_count": 13,
   "id": "tribal-million",
   "metadata": {},
   "outputs": [],
   "source": [
    "t1 = [[1,2,3],[4,5,6]]\n",
    "t2 = [[7,8,9],[3,2,1]]"
   ]
  },
  {
   "cell_type": "code",
   "execution_count": 15,
   "id": "first-generic",
   "metadata": {},
   "outputs": [
    {
     "data": {
      "text/plain": [
       "<tf.Tensor: shape=(4, 3), dtype=int32, numpy=\n",
       "array([[1, 2, 3],\n",
       "       [4, 5, 6],\n",
       "       [7, 8, 9],\n",
       "       [3, 2, 1]], dtype=int32)>"
      ]
     },
     "execution_count": 15,
     "metadata": {},
     "output_type": "execute_result"
    }
   ],
   "source": [
    "tf.concat([t1,t2],0)"
   ]
  },
  {
   "cell_type": "markdown",
   "id": "stunning-antenna",
   "metadata": {},
   "source": [
    "### 分割张量：将一个张量拆分成多个张量, 分割后维度不变\n",
    "\n",
    "```python\n",
    "tf.split( value, num_or_size_splits, axis=0)\n",
    "```\n",
    "\n",
    "- `num_or_size_splits`\n",
    "    - 2：分割成2个张量 \n",
    "    - [1,2,1]：就表示分割成三个张量, 长度分别是1,2,1"
   ]
  },
  {
   "cell_type": "code",
   "execution_count": 17,
   "id": "favorite-manner",
   "metadata": {},
   "outputs": [
    {
     "data": {
      "text/plain": [
       "<tf.Tensor: shape=(4, 6), dtype=int32, numpy=\n",
       "array([[ 0,  1,  2,  3,  4,  5],\n",
       "       [ 6,  7,  8,  9, 10, 11],\n",
       "       [12, 13, 14, 15, 16, 17],\n",
       "       [18, 19, 20, 21, 22, 23]], dtype=int32)>"
      ]
     },
     "execution_count": 17,
     "metadata": {},
     "output_type": "execute_result"
    }
   ],
   "source": [
    "x = tf.range(24)\n",
    "x = tf.reshape(x,(4,6))\n",
    "x"
   ]
  },
  {
   "cell_type": "code",
   "execution_count": 18,
   "id": "laden-worse",
   "metadata": {},
   "outputs": [
    {
     "data": {
      "text/plain": [
       "[<tf.Tensor: shape=(4, 2), dtype=int32, numpy=\n",
       " array([[ 0,  1],\n",
       "        [ 6,  7],\n",
       "        [12, 13],\n",
       "        [18, 19]], dtype=int32)>,\n",
       " <tf.Tensor: shape=(4, 4), dtype=int32, numpy=\n",
       " array([[ 2,  3,  4,  5],\n",
       "        [ 8,  9, 10, 11],\n",
       "        [14, 15, 16, 17],\n",
       "        [20, 21, 22, 23]], dtype=int32)>]"
      ]
     },
     "execution_count": 18,
     "metadata": {},
     "output_type": "execute_result"
    }
   ],
   "source": [
    "tf.split(x,(2,4),1)"
   ]
  },
  {
   "cell_type": "markdown",
   "id": "starting-bennett",
   "metadata": {},
   "source": [
    "### 堆叠张量\n",
    "\n",
    "```python\n",
    "tf.stack( values, axis)\n",
    "```\n",
    "\n",
    "合并张量时，创建一个新的维度\n",
    "\n"
   ]
  },
  {
   "cell_type": "code",
   "execution_count": 19,
   "id": "macro-avatar",
   "metadata": {},
   "outputs": [],
   "source": [
    "x = tf.constant([1,2,3])\n",
    "y = tf.constant([4,5,6])"
   ]
  },
  {
   "cell_type": "code",
   "execution_count": 20,
   "id": "educated-participation",
   "metadata": {},
   "outputs": [
    {
     "data": {
      "text/plain": [
       "<tf.Tensor: shape=(2, 3), dtype=int32, numpy=\n",
       "array([[1, 2, 3],\n",
       "       [4, 5, 6]], dtype=int32)>"
      ]
     },
     "execution_count": 20,
     "metadata": {},
     "output_type": "execute_result"
    }
   ],
   "source": [
    "tf.stack([x,y],0)"
   ]
  },
  {
   "cell_type": "code",
   "execution_count": 21,
   "id": "annual-memphis",
   "metadata": {},
   "outputs": [
    {
     "data": {
      "text/plain": [
       "<tf.Tensor: shape=(3, 2), dtype=int32, numpy=\n",
       "array([[1, 4],\n",
       "       [2, 5],\n",
       "       [3, 6]], dtype=int32)>"
      ]
     },
     "execution_count": 21,
     "metadata": {},
     "output_type": "execute_result"
    }
   ],
   "source": [
    "tf.stack([x,y],1)"
   ]
  },
  {
   "cell_type": "markdown",
   "id": "turned-asthma",
   "metadata": {},
   "source": [
    "### 分解张量\n",
    "\n",
    "- 将张量分解为多个张量\n",
    "- 分解后得到的每个张量, 和原来的张量相比，维数都少了一维\n",
    "\n",
    "```python\n",
    "tf.unstack( values, axis)\n",
    "```"
   ]
  },
  {
   "cell_type": "code",
   "execution_count": 23,
   "id": "alert-reynolds",
   "metadata": {},
   "outputs": [
    {
     "data": {
      "text/plain": [
       "<tf.Tensor: shape=(2, 3), dtype=int32, numpy=\n",
       "array([[1, 2, 3],\n",
       "       [4, 5, 6]], dtype=int32)>"
      ]
     },
     "execution_count": 23,
     "metadata": {},
     "output_type": "execute_result"
    }
   ],
   "source": [
    "a = tf.constant([[1,2,3],[4,5,6]])\n",
    "a"
   ]
  },
  {
   "cell_type": "code",
   "execution_count": 25,
   "id": "together-circus",
   "metadata": {},
   "outputs": [
    {
     "data": {
      "text/plain": [
       "[<tf.Tensor: shape=(3,), dtype=int32, numpy=array([1, 2, 3], dtype=int32)>,\n",
       " <tf.Tensor: shape=(3,), dtype=int32, numpy=array([4, 5, 6], dtype=int32)>]"
      ]
     },
     "execution_count": 25,
     "metadata": {},
     "output_type": "execute_result"
    }
   ],
   "source": [
    "tf.unstack(a,axis=0)"
   ]
  },
  {
   "cell_type": "code",
   "execution_count": 26,
   "id": "chinese-destruction",
   "metadata": {},
   "outputs": [
    {
     "data": {
      "text/plain": [
       "[<tf.Tensor: shape=(2,), dtype=int32, numpy=array([1, 4], dtype=int32)>,\n",
       " <tf.Tensor: shape=(2,), dtype=int32, numpy=array([2, 5], dtype=int32)>,\n",
       " <tf.Tensor: shape=(2,), dtype=int32, numpy=array([3, 6], dtype=int32)>]"
      ]
     },
     "execution_count": 26,
     "metadata": {},
     "output_type": "execute_result"
    }
   ],
   "source": [
    "tf.unstack(a,axis=1)"
   ]
  }
 ],
 "metadata": {
  "kernelspec": {
   "display_name": "Python 3",
   "language": "python",
   "name": "python3"
  },
  "language_info": {
   "codemirror_mode": {
    "name": "ipython",
    "version": 3
   },
   "file_extension": ".py",
   "mimetype": "text/x-python",
   "name": "python",
   "nbconvert_exporter": "python",
   "pygments_lexer": "ipython3",
   "version": "3.7.3"
  }
 },
 "nbformat": 4,
 "nbformat_minor": 5
}
