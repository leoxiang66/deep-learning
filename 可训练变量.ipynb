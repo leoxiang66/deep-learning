{
 "cells": [
  {
   "cell_type": "markdown",
   "id": "primary-context",
   "metadata": {},
   "source": [
    "# 可训练变量\n",
    "\n",
    "1. TensorFlow的可自动求导机制\n",
    "\n",
    "2. Variable对象\n",
    "\n",
    "   - 对Tensor对象的进一步封装 \n",
    "   - 在模型训练过程中自动记录梯度信息，由算法自动优化\n",
    "   - 可以被训练的变量\n",
    "   - 在机器学习中作为**模型参数**\n",
    "\n",
    "\n",
    "<hr>\n",
    "\n",
    "```python\n",
    "tf. Variable(initial_value, dtype) \n",
    "```\n",
    "\n",
    "<hr>\n",
    "\n",
    "   Parameters:\n",
    "\n",
    "   - `initial_value`:\n",
    "     - 数字\n",
    "     - Python列表\n",
    "     - ndarray对象\n",
    "     - Tensor对象\n",
    "     \n",
    "     \n",
    "### 创建可训练变量"
   ]
  },
  {
   "cell_type": "code",
   "execution_count": 1,
   "id": "sunset-poster",
   "metadata": {},
   "outputs": [],
   "source": [
    "import tensorflow as tf"
   ]
  },
  {
   "cell_type": "code",
   "execution_count": 2,
   "id": "downtown-airport",
   "metadata": {},
   "outputs": [
    {
     "data": {
      "text/plain": [
       "<tf.Variable 'Variable:0' shape=() dtype=int32, numpy=1>"
      ]
     },
     "execution_count": 2,
     "metadata": {},
     "output_type": "execute_result"
    }
   ],
   "source": [
    "tf.Variable(1)"
   ]
  },
  {
   "cell_type": "code",
   "execution_count": 3,
   "id": "brown-newark",
   "metadata": {},
   "outputs": [
    {
     "data": {
      "text/plain": [
       "<tf.Variable 'Variable:0' shape=(3,) dtype=int32, numpy=array([1, 3, 4], dtype=int32)>"
      ]
     },
     "execution_count": 3,
     "metadata": {},
     "output_type": "execute_result"
    }
   ],
   "source": [
    "tf.Variable([1,3,4])"
   ]
  },
  {
   "cell_type": "markdown",
   "id": "martial-length",
   "metadata": {},
   "source": [
    "### 可训练变量赋值\n",
    "\n",
    "<hr>\n",
    "\n",
    "```python\n",
    "obj.assign()\n",
    "obj.assign_add()\n",
    "obj.assign_sub()\n",
    "```\n",
    "\n",
    "<hr>\n"
   ]
  },
  {
   "cell_type": "code",
   "execution_count": 4,
   "id": "several-forwarding",
   "metadata": {},
   "outputs": [],
   "source": [
    "x = tf.Variable([1,2])"
   ]
  },
  {
   "cell_type": "code",
   "execution_count": 5,
   "id": "respiratory-count",
   "metadata": {},
   "outputs": [
    {
     "data": {
      "text/plain": [
       "<tf.Variable 'UnreadVariable' shape=(2,) dtype=int32, numpy=array([3, 4], dtype=int32)>"
      ]
     },
     "execution_count": 5,
     "metadata": {},
     "output_type": "execute_result"
    }
   ],
   "source": [
    "x.assign([3,4])"
   ]
  },
  {
   "cell_type": "code",
   "execution_count": 7,
   "id": "incorporate-potato",
   "metadata": {},
   "outputs": [
    {
     "data": {
      "text/plain": [
       "<tf.Variable 'UnreadVariable' shape=(2,) dtype=int32, numpy=array([4, 5], dtype=int32)>"
      ]
     },
     "execution_count": 7,
     "metadata": {},
     "output_type": "execute_result"
    }
   ],
   "source": [
    "x.assign_add([1,1])"
   ]
  },
  {
   "cell_type": "code",
   "execution_count": 8,
   "id": "primary-silver",
   "metadata": {},
   "outputs": [
    {
     "data": {
      "text/plain": [
       "<tf.Variable 'UnreadVariable' shape=(2,) dtype=int32, numpy=array([3, 3], dtype=int32)>"
      ]
     },
     "execution_count": 8,
     "metadata": {},
     "output_type": "execute_result"
    }
   ],
   "source": [
    "x.assign_sub([1,2])"
   ]
  }
 ],
 "metadata": {
  "kernelspec": {
   "display_name": "Python 3",
   "language": "python",
   "name": "python3"
  },
  "language_info": {
   "codemirror_mode": {
    "name": "ipython",
    "version": 3
   },
   "file_extension": ".py",
   "mimetype": "text/x-python",
   "name": "python",
   "nbconvert_exporter": "python",
   "pygments_lexer": "ipython3",
   "version": "3.7.3"
  }
 },
 "nbformat": 4,
 "nbformat_minor": 5
}
