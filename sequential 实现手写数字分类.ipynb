{
 "cells": [
  {
   "cell_type": "markdown",
   "id": "powerful-determination",
   "metadata": {},
   "source": [
    "### sequential 实现手写数字分类\n",
    "\n",
    "![image-20210324140518383](https://i.loli.net/2021/03/24/qoWd2H6OYa41nP5.png)"
   ]
  },
  {
   "cell_type": "code",
   "execution_count": 1,
   "id": "reflected-involvement",
   "metadata": {},
   "outputs": [],
   "source": [
    "import tensorflow as tf\n",
    "import numpy as np\n",
    "import matplotlib.pyplot as plt"
   ]
  },
  {
   "cell_type": "markdown",
   "id": "furnished-blind",
   "metadata": {},
   "source": [
    "1) 加载数据"
   ]
  },
  {
   "cell_type": "code",
   "execution_count": 2,
   "id": "catholic-welcome",
   "metadata": {},
   "outputs": [
    {
     "name": "stdout",
     "output_type": "stream",
     "text": [
      "(60000, 28, 28) <class 'numpy.ndarray'>\n",
      "(60000,)\n",
      "(10000, 28, 28) <class 'numpy.ndarray'>\n",
      "(10000,)\n"
     ]
    }
   ],
   "source": [
    "mnist=tf. keras. datasets. mnist\n",
    "(train_x,train_y),(test_x,test_y) = mnist.load_data()\n",
    "\n",
    "print(train_x.shape,type(train_x))\n",
    "print(train_y.shape)\n",
    "print(test_x.shape,type(test_x))\n",
    "print(test_y.shape)"
   ]
  },
  {
   "cell_type": "markdown",
   "id": "treated-partnership",
   "metadata": {},
   "source": [
    "2) Data preprocessing"
   ]
  },
  {
   "cell_type": "code",
   "execution_count": 3,
   "id": "warming-commission",
   "metadata": {},
   "outputs": [],
   "source": [
    "# normalization\n",
    "X_train, X_test=tf.cast(train_x/255.0, tf. float32), tf.cast(test_x/255.0, tf. float32)\n",
    "y_train,y_test=tf.cast(train_y,tf.int16),tf.cast(test_y,tf.int16)"
   ]
  },
  {
   "cell_type": "markdown",
   "id": "short-history",
   "metadata": {},
   "source": [
    "3) create model"
   ]
  },
  {
   "cell_type": "code",
   "execution_count": 4,
   "id": "closing-elephant",
   "metadata": {},
   "outputs": [
    {
     "name": "stdout",
     "output_type": "stream",
     "text": [
      "Model: \"sequential\"\n",
      "_________________________________________________________________\n",
      "Layer (type)                 Output Shape              Param #   \n",
      "=================================================================\n",
      "flatten (Flatten)            (None, 784)               0         \n",
      "_________________________________________________________________\n",
      "dense (Dense)                (None, 128)               100480    \n",
      "_________________________________________________________________\n",
      "dense_1 (Dense)              (None, 10)                1290      \n",
      "=================================================================\n",
      "Total params: 101,770\n",
      "Trainable params: 101,770\n",
      "Non-trainable params: 0\n",
      "_________________________________________________________________\n"
     ]
    }
   ],
   "source": [
    "model = tf.keras.Sequential()\n",
    "model.add(tf.keras.layers.Flatten(input_shape=(28,28))) # 该层不进行计算，而是将input拉直为一维向量\n",
    "model.add(tf.keras.layers.Dense(128,activation='relu'))\n",
    "model.add(tf.keras.layers.Dense(10,activation='softmax'))\n",
    "\n",
    "model.summary()"
   ]
  },
  {
   "cell_type": "markdown",
   "id": "defined-carrier",
   "metadata": {},
   "source": [
    "4) configure model"
   ]
  },
  {
   "cell_type": "code",
   "execution_count": 5,
   "id": "bacterial-universal",
   "metadata": {},
   "outputs": [],
   "source": [
    "model.compile(optimizer = 'adam',loss='sparse_categorical_crossentropy',metrics = ['sparse_categorical_accuracy'])"
   ]
  },
  {
   "cell_type": "markdown",
   "id": "minus-timothy",
   "metadata": {},
   "source": [
    "5) train model"
   ]
  },
  {
   "cell_type": "code",
   "execution_count": 6,
   "id": "rubber-corruption",
   "metadata": {},
   "outputs": [
    {
     "name": "stdout",
     "output_type": "stream",
     "text": [
      "Epoch 1/5\n",
      "750/750 [==============================] - 2s 2ms/step - loss: 0.5559 - sparse_categorical_accuracy: 0.8439 - val_loss: 0.1856 - val_sparse_categorical_accuracy: 0.9478\n",
      "Epoch 2/5\n",
      "750/750 [==============================] - 1s 976us/step - loss: 0.1719 - sparse_categorical_accuracy: 0.9501 - val_loss: 0.1326 - val_sparse_categorical_accuracy: 0.9613\n",
      "Epoch 3/5\n",
      "750/750 [==============================] - 1s 961us/step - loss: 0.1107 - sparse_categorical_accuracy: 0.9683 - val_loss: 0.1203 - val_sparse_categorical_accuracy: 0.9653\n",
      "Epoch 4/5\n",
      "750/750 [==============================] - 1s 972us/step - loss: 0.0841 - sparse_categorical_accuracy: 0.9755 - val_loss: 0.1027 - val_sparse_categorical_accuracy: 0.9687\n",
      "Epoch 5/5\n",
      "750/750 [==============================] - 1s 946us/step - loss: 0.0661 - sparse_categorical_accuracy: 0.9810 - val_loss: 0.1014 - val_sparse_categorical_accuracy: 0.9691\n"
     ]
    },
    {
     "data": {
      "text/plain": [
       "<tensorflow.python.keras.callbacks.History at 0x13f20d610>"
      ]
     },
     "execution_count": 6,
     "metadata": {},
     "output_type": "execute_result"
    }
   ],
   "source": [
    "model.fit(X_train,y_train,batch_size=64,epochs = 5,validation_split=0.2)"
   ]
  },
  {
   "cell_type": "markdown",
   "id": "constant-calculation",
   "metadata": {},
   "source": [
    "6) model evaluation"
   ]
  },
  {
   "cell_type": "code",
   "execution_count": 7,
   "id": "magnetic-qualification",
   "metadata": {},
   "outputs": [
    {
     "name": "stdout",
     "output_type": "stream",
     "text": [
      "313/313 - 0s - loss: 0.0920 - sparse_categorical_accuracy: 0.9722\n"
     ]
    },
    {
     "data": {
      "text/plain": [
       "[0.09198597073554993, 0.9721999764442444]"
      ]
     },
     "execution_count": 7,
     "metadata": {},
     "output_type": "execute_result"
    }
   ],
   "source": [
    "model.evaluate(X_test,y_test,verbose=2)"
   ]
  },
  {
   "cell_type": "markdown",
   "id": "needed-survey",
   "metadata": {},
   "source": [
    "7) use model"
   ]
  },
  {
   "cell_type": "code",
   "execution_count": 8,
   "id": "harmful-influence",
   "metadata": {},
   "outputs": [
    {
     "data": {
      "image/png": "[encoded data removed]",
      "text/plain": [
       "<Figure size 432x288 with 1 Axes>"
      ]
     },
     "metadata": {
      "needs_background": "light"
     },
     "output_type": "display_data"
    }
   ],
   "source": [
    "plt.axis('off')\n",
    "plt.imshow(test_x[0],cmap='gray')\n",
    "plt.show()"
   ]
  },
  {
   "cell_type": "code",
   "execution_count": 9,
   "id": "beneficial-liability",
   "metadata": {},
   "outputs": [
    {
     "data": {
      "text/plain": [
       "7"
      ]
     },
     "execution_count": 9,
     "metadata": {},
     "output_type": "execute_result"
    }
   ],
   "source": [
    "y_test[0].numpy()"
   ]
  },
  {
   "cell_type": "code",
   "execution_count": 30,
   "id": "geological-questionnaire",
   "metadata": {},
   "outputs": [
    {
     "data": {
      "text/plain": [
       "7"
      ]
     },
     "execution_count": 30,
     "metadata": {},
     "output_type": "execute_result"
    }
   ],
   "source": [
    "np.argmax(model.predict(X_test)[0])"
   ]
  }
 ],
 "metadata": {
  "kernelspec": {
   "display_name": "Python 3",
   "language": "python",
   "name": "python3"
  },
  "language_info": {
   "codemirror_mode": {
    "name": "ipython",
    "version": 3
   },
   "file_extension": ".py",
   "mimetype": "text/x-python",
   "name": "python",
   "nbconvert_exporter": "python",
   "pygments_lexer": "ipython3",
   "version": "3.8.5"
  }
 },
 "nbformat": 4,
 "nbformat_minor": 5
}
